{
 "cells": [
  {
   "cell_type": "code",
   "execution_count": 32,
   "outputs": [],
   "source": [
    "import pandas as pd"
   ],
   "metadata": {
    "collapsed": false,
    "pycharm": {
     "name": "#%%\n"
    }
   }
  },
  {
   "cell_type": "code",
   "execution_count": 33,
   "outputs": [],
   "source": [
    "from data.utils import get_week_range_df, get_train_and_test_intervals, to_week_range\n",
    "from statsmodels.tsa.stattools import kpss"
   ],
   "metadata": {
    "collapsed": false,
    "pycharm": {
     "name": "#%%\n"
    }
   }
  },
  {
   "cell_type": "code",
   "execution_count": 34,
   "outputs": [],
   "source": [
    "from statsmodels.tsa.stattools import adfuller"
   ],
   "metadata": {
    "collapsed": false,
    "pycharm": {
     "name": "#%%\n"
    }
   }
  },
  {
   "cell_type": "code",
   "execution_count": 35,
   "outputs": [],
   "source": [
    "df = get_week_range_df(outseason_start_week=23, outseason_end_week=38, include_search_terms=False)"
   ],
   "metadata": {
    "collapsed": false,
    "pycharm": {
     "name": "#%%\n"
    }
   }
  },
  {
   "cell_type": "code",
   "execution_count": 36,
   "outputs": [
    {
     "data": {
      "text/plain": "                       year  week  Disease Rate\nweek range                                     \n2003-12-29/2004-01-04  2004     1     18.716703\n2004-01-05/2004-01-11  2004     2     12.366981\n2004-01-12/2004-01-18  2004     3      8.808089\n2004-01-19/2004-01-25  2004     4      6.575904\n2004-01-26/2004-02-01  2004     5      6.837619",
      "text/html": "<div>\n<style scoped>\n    .dataframe tbody tr th:only-of-type {\n        vertical-align: middle;\n    }\n\n    .dataframe tbody tr th {\n        vertical-align: top;\n    }\n\n    .dataframe thead th {\n        text-align: right;\n    }\n</style>\n<table border=\"1\" class=\"dataframe\">\n  <thead>\n    <tr style=\"text-align: right;\">\n      <th></th>\n      <th>year</th>\n      <th>week</th>\n      <th>Disease Rate</th>\n    </tr>\n    <tr>\n      <th>week range</th>\n      <th></th>\n      <th></th>\n      <th></th>\n    </tr>\n  </thead>\n  <tbody>\n    <tr>\n      <th>2003-12-29/2004-01-04</th>\n      <td>2004</td>\n      <td>1</td>\n      <td>18.716703</td>\n    </tr>\n    <tr>\n      <th>2004-01-05/2004-01-11</th>\n      <td>2004</td>\n      <td>2</td>\n      <td>12.366981</td>\n    </tr>\n    <tr>\n      <th>2004-01-12/2004-01-18</th>\n      <td>2004</td>\n      <td>3</td>\n      <td>8.808089</td>\n    </tr>\n    <tr>\n      <th>2004-01-19/2004-01-25</th>\n      <td>2004</td>\n      <td>4</td>\n      <td>6.575904</td>\n    </tr>\n    <tr>\n      <th>2004-01-26/2004-02-01</th>\n      <td>2004</td>\n      <td>5</td>\n      <td>6.837619</td>\n    </tr>\n  </tbody>\n</table>\n</div>"
     },
     "execution_count": 36,
     "metadata": {},
     "output_type": "execute_result"
    }
   ],
   "source": [
    "df.head()"
   ],
   "metadata": {
    "collapsed": false,
    "pycharm": {
     "name": "#%%\n"
    }
   }
  },
  {
   "cell_type": "code",
   "execution_count": 37,
   "outputs": [],
   "source": [
    "outseason_start_week = 23\n",
    "outseason_end_week = 38"
   ],
   "metadata": {
    "collapsed": false,
    "pycharm": {
     "name": "#%%\n"
    }
   }
  },
  {
   "cell_type": "code",
   "execution_count": 38,
   "outputs": [],
   "source": [
    "season4_5 = df['Disease Rate'][to_week_range(2004, outseason_end_week):to_week_range(2005, outseason_start_week)]"
   ],
   "metadata": {
    "collapsed": false,
    "pycharm": {
     "name": "#%%\n"
    }
   }
  },
  {
   "cell_type": "code",
   "execution_count": 46,
   "outputs": [
    {
     "name": "stdout",
     "output_type": "stream",
     "text": [
      "\n",
      "\n",
      "Season: 2004 - 2005\n",
      "ADF Statistic: -1.054451\n",
      "p-value: 0.732890\n",
      "Critical Values:\n",
      "\t1%: -3.621\n",
      "\t5%: -2.944\n",
      "\t10%: -2.610\n",
      "Result: The series is stationary\n",
      "\n",
      "\n",
      "Season: 2005 - 2006\n",
      "ADF Statistic: -2.341878\n",
      "p-value: 0.158817\n",
      "Critical Values:\n",
      "\t1%: -3.670\n",
      "\t5%: -2.964\n",
      "\t10%: -2.621\n",
      "Result: The series is stationary\n",
      "\n",
      "\n",
      "Season: 2006 - 2007\n",
      "ADF Statistic: -2.439798\n",
      "p-value: 0.130817\n",
      "Critical Values:\n",
      "\t1%: -3.633\n",
      "\t5%: -2.949\n",
      "\t10%: -2.613\n",
      "Result: The series is stationary\n",
      "\n",
      "\n",
      "Season: 2007 - 2008\n",
      "ADF Statistic: -1.908715\n",
      "p-value: 0.327973\n",
      "Critical Values:\n",
      "\t1%: -3.633\n",
      "\t5%: -2.949\n",
      "\t10%: -2.613\n",
      "Result: The series is stationary\n",
      "\n",
      "\n",
      "Season: 2008 - 2009\n",
      "ADF Statistic: -1.601506\n",
      "p-value: 0.482837\n",
      "Critical Values:\n",
      "\t1%: -3.627\n",
      "\t5%: -2.946\n",
      "\t10%: -2.612\n",
      "Result: The series is stationary\n",
      "\n",
      "\n",
      "Season: 2009 - 2010\n",
      "ADF Statistic: -0.906380\n",
      "p-value: 0.785864\n",
      "Critical Values:\n",
      "\t1%: -3.633\n",
      "\t5%: -2.949\n",
      "\t10%: -2.613\n",
      "Result: The series is stationary\n",
      "\n",
      "\n",
      "Season: 2010 - 2011\n",
      "ADF Statistic: -2.525452\n",
      "p-value: 0.109404\n",
      "Critical Values:\n",
      "\t1%: -3.633\n",
      "\t5%: -2.949\n",
      "\t10%: -2.613\n",
      "Result: The series is stationary\n",
      "\n",
      "\n",
      "Season: 2011 - 2012\n",
      "ADF Statistic: -1.084480\n",
      "p-value: 0.721221\n",
      "Critical Values:\n",
      "\t1%: -3.627\n",
      "\t5%: -2.946\n",
      "\t10%: -2.612\n",
      "Result: The series is stationary\n",
      "\n",
      "\n",
      "Season: 2012 - 2013\n",
      "ADF Statistic: -1.297040\n",
      "p-value: 0.630525\n",
      "Critical Values:\n",
      "\t1%: -3.627\n",
      "\t5%: -2.946\n",
      "\t10%: -2.612\n",
      "Result: The series is stationary\n",
      "\n",
      "\n",
      "Season: 2013 - 2014\n",
      "ADF Statistic: -2.521885\n",
      "p-value: 0.110240\n",
      "Critical Values:\n",
      "\t1%: -3.679\n",
      "\t5%: -2.968\n",
      "\t10%: -2.623\n",
      "Result: The series is stationary\n",
      "\n",
      "\n",
      "Season: 2014 - 2015\n",
      "ADF Statistic: -1.401354\n",
      "p-value: 0.581627\n",
      "Critical Values:\n",
      "\t1%: -3.627\n",
      "\t5%: -2.946\n",
      "\t10%: -2.612\n",
      "Result: The series is stationary\n",
      "\n",
      "\n",
      "Season: 2015 - 2016\n",
      "ADF Statistic: -1.383025\n",
      "p-value: 0.590387\n",
      "Critical Values:\n",
      "\t1%: -3.633\n",
      "\t5%: -2.949\n",
      "\t10%: -2.613\n",
      "Result: The series is stationary\n",
      "\n",
      "\n",
      "Season: 2016 - 2017\n",
      "ADF Statistic: -2.055299\n",
      "p-value: 0.262865\n",
      "Critical Values:\n",
      "\t1%: -3.654\n",
      "\t5%: -2.957\n",
      "\t10%: -2.618\n",
      "Result: The series is stationary\n",
      "\n",
      "\n",
      "Season: 2017 - 2018\n",
      "ADF Statistic: -1.790513\n",
      "p-value: 0.385182\n",
      "Critical Values:\n",
      "\t1%: -3.633\n",
      "\t5%: -2.949\n",
      "\t10%: -2.613\n",
      "Result: The series is stationary\n"
     ]
    }
   ],
   "source": [
    "for i in range(2004, 2018):\n",
    "    print('\\n')\n",
    "    print(\"Season: %d - %d\" % (i, i+1))\n",
    "    start_yr = i\n",
    "    end_yr = i+1\n",
    "    season = df['Disease Rate'][to_week_range(start_yr, outseason_end_week):to_week_range(end_yr, outseason_start_week)]\n",
    "    X = season.values\n",
    "    result = adfuller(X, autolag='AIC')\n",
    "    p_value = result[1]\n",
    "    print('ADF Statistic: %f' % result[0])\n",
    "    print('p-value: %f' % p_value)\n",
    "    print('Critical Values:')\n",
    "    for key, value in result[4].items():\n",
    "        print('\\t%s: %.3f' % (key, value))\n",
    "    print(f'Result: The series is {\"not \" if p_value < 0.05 else \"\"}stationary')\n"
   ],
   "metadata": {
    "collapsed": false,
    "pycharm": {
     "name": "#%%\n"
    }
   }
  },
  {
   "cell_type": "code",
   "execution_count": 40,
   "outputs": [
    {
     "name": "stdout",
     "output_type": "stream",
     "text": [
      "ADF Statistic: -6.966726\n",
      "p-value: 0.000000\n",
      "Critical Values:\n",
      "\t1%: -3.442\n",
      "\t5%: -2.867\n",
      "\t10%: -2.570\n"
     ]
    }
   ],
   "source": [
    "X = df['Disease Rate'].values\n",
    "result = adfuller(X, autolag='AIC')\n",
    "print('ADF Statistic: %f' % result[0])\n",
    "print('p-value: %f' % result[1])\n",
    "print('Critical Values:')\n",
    "for key, value in result[4].items():\n",
    "    print('\\t%s: %.3f' % (key, value))"
   ],
   "metadata": {
    "collapsed": false,
    "pycharm": {
     "name": "#%%\n"
    }
   }
  },
  {
   "cell_type": "code",
   "execution_count": 41,
   "outputs": [],
   "source": [
    "def kpss_test(series, **kw):\n",
    "    statistic, p_value, n_lags, critical_values = kpss(series, **kw)\n",
    "    # Format Output\n",
    "    print(f'KPSS Statistic: {statistic}')\n",
    "    print(f'p-value: {p_value}')\n",
    "    print(f'num lags: {n_lags}')\n",
    "    print('Critial Values:')\n",
    "    for key, value in critical_values.items():\n",
    "        print(f'   {key} : {value}')\n",
    "    print(f'Result: The series is {\"not \" if p_value < 0.05 else \"\"}stationary')"
   ],
   "metadata": {
    "collapsed": false,
    "pycharm": {
     "name": "#%%\n"
    }
   }
  },
  {
   "cell_type": "code",
   "execution_count": 42,
   "outputs": [
    {
     "name": "stdout",
     "output_type": "stream",
     "text": [
      "\n",
      "\n",
      "Season: 2004 - 2005\n",
      "KPSS Statistic: 0.13539162530301838\n",
      "p-value: 0.1\n",
      "num lags: 10\n",
      "Critial Values:\n",
      "   10% : 0.347\n",
      "   5% : 0.463\n",
      "   2.5% : 0.574\n",
      "   1% : 0.739\n",
      "Result: The series is stationary\n",
      "\n",
      "\n",
      "Season: 2005 - 2006\n",
      "KPSS Statistic: 0.1278606932753031\n",
      "p-value: 0.1\n",
      "num lags: 10\n",
      "Critial Values:\n",
      "   10% : 0.347\n",
      "   5% : 0.463\n",
      "   2.5% : 0.574\n",
      "   1% : 0.739\n",
      "Result: The series is stationary\n",
      "\n",
      "\n",
      "Season: 2006 - 2007\n",
      "KPSS Statistic: 0.12257676927201488\n",
      "p-value: 0.1\n",
      "num lags: 10\n",
      "Critial Values:\n",
      "   10% : 0.347\n",
      "   5% : 0.463\n",
      "   2.5% : 0.574\n",
      "   1% : 0.739\n",
      "Result: The series is stationary\n",
      "\n",
      "\n",
      "Season: 2007 - 2008\n",
      "KPSS Statistic: 0.16472506687534488\n",
      "p-value: 0.1\n",
      "num lags: 10\n",
      "Critial Values:\n",
      "   10% : 0.347\n",
      "   5% : 0.463\n",
      "   2.5% : 0.574\n",
      "   1% : 0.739\n",
      "Result: The series is stationary\n",
      "\n",
      "\n",
      "Season: 2008 - 2009\n",
      "KPSS Statistic: 0.1574724404866942\n",
      "p-value: 0.1\n",
      "num lags: 10\n",
      "Critial Values:\n",
      "   10% : 0.347\n",
      "   5% : 0.463\n",
      "   2.5% : 0.574\n",
      "   1% : 0.739\n",
      "Result: The series is stationary\n",
      "\n",
      "\n",
      "Season: 2009 - 2010\n",
      "KPSS Statistic: 0.41425515107830757\n",
      "p-value: 0.07101071074210881\n",
      "num lags: 10\n",
      "Critial Values:\n",
      "   10% : 0.347\n",
      "   5% : 0.463\n",
      "   2.5% : 0.574\n",
      "   1% : 0.739\n",
      "Result: The series is stationary\n",
      "\n",
      "\n",
      "Season: 2010 - 2011\n",
      "KPSS Statistic: 0.1687653945488799\n",
      "p-value: 0.1\n",
      "num lags: 10\n",
      "Critial Values:\n",
      "   10% : 0.347\n",
      "   5% : 0.463\n",
      "   2.5% : 0.574\n",
      "   1% : 0.739\n",
      "Result: The series is stationary\n",
      "\n",
      "\n",
      "Season: 2011 - 2012\n",
      "KPSS Statistic: 0.17046988772771085\n",
      "p-value: 0.1\n",
      "num lags: 10\n",
      "Critial Values:\n",
      "   10% : 0.347\n",
      "   5% : 0.463\n",
      "   2.5% : 0.574\n",
      "   1% : 0.739\n",
      "Result: The series is stationary\n",
      "\n",
      "\n",
      "Season: 2012 - 2013\n",
      "KPSS Statistic: 0.1461196106697848\n",
      "p-value: 0.1\n",
      "num lags: 10\n",
      "Critial Values:\n",
      "   10% : 0.347\n",
      "   5% : 0.463\n",
      "   2.5% : 0.574\n",
      "   1% : 0.739\n",
      "Result: The series is stationary\n",
      "\n",
      "\n",
      "Season: 2013 - 2014\n",
      "KPSS Statistic: 0.16142388088176843\n",
      "p-value: 0.1\n",
      "num lags: 10\n",
      "Critial Values:\n",
      "   10% : 0.347\n",
      "   5% : 0.463\n",
      "   2.5% : 0.574\n",
      "   1% : 0.739\n",
      "Result: The series is stationary\n",
      "\n",
      "\n",
      "Season: 2014 - 2015\n",
      "KPSS Statistic: 0.14003385144073954\n",
      "p-value: 0.1\n",
      "num lags: 10\n",
      "Critial Values:\n",
      "   10% : 0.347\n",
      "   5% : 0.463\n",
      "   2.5% : 0.574\n",
      "   1% : 0.739\n",
      "Result: The series is stationary\n",
      "\n",
      "\n",
      "Season: 2015 - 2016\n",
      "KPSS Statistic: 0.14886116181136852\n",
      "p-value: 0.1\n",
      "num lags: 10\n",
      "Critial Values:\n",
      "   10% : 0.347\n",
      "   5% : 0.463\n",
      "   2.5% : 0.574\n",
      "   1% : 0.739\n",
      "Result: The series is stationary\n",
      "\n",
      "\n",
      "Season: 2016 - 2017\n",
      "KPSS Statistic: 0.2043036359724524\n",
      "p-value: 0.1\n",
      "num lags: 10\n",
      "Critial Values:\n",
      "   10% : 0.347\n",
      "   5% : 0.463\n",
      "   2.5% : 0.574\n",
      "   1% : 0.739\n",
      "Result: The series is stationary\n",
      "\n",
      "\n",
      "Season: 2017 - 2018\n",
      "KPSS Statistic: 0.13032884581135037\n",
      "p-value: 0.1\n",
      "num lags: 10\n",
      "Critial Values:\n",
      "   10% : 0.347\n",
      "   5% : 0.463\n",
      "   2.5% : 0.574\n",
      "   1% : 0.739\n",
      "Result: The series is stationary\n"
     ]
    },
    {
     "name": "stderr",
     "output_type": "stream",
     "text": [
      "C:\\ProgramData\\Anaconda3\\lib\\site-packages\\statsmodels\\tsa\\stattools.py:1875: FutureWarning: The behavior of using nlags=None will change in release 0.13.Currently nlags=None is the same as nlags=\"legacy\", and so a sample-size lag length is used. After the next release, the default will change to be the same as nlags=\"auto\" which uses an automatic lag length selection method. To silence this warning, either use \"auto\" or \"legacy\"\n",
      "  warnings.warn(msg, FutureWarning)\n",
      "C:\\ProgramData\\Anaconda3\\lib\\site-packages\\statsmodels\\tsa\\stattools.py:1910: InterpolationWarning: The test statistic is outside of the range of p-values available in the\n",
      "look-up table. The actual p-value is greater than the p-value returned.\n",
      "\n",
      "  warnings.warn(\n",
      "C:\\ProgramData\\Anaconda3\\lib\\site-packages\\statsmodels\\tsa\\stattools.py:1910: InterpolationWarning: The test statistic is outside of the range of p-values available in the\n",
      "look-up table. The actual p-value is greater than the p-value returned.\n",
      "\n",
      "  warnings.warn(\n",
      "C:\\ProgramData\\Anaconda3\\lib\\site-packages\\statsmodels\\tsa\\stattools.py:1910: InterpolationWarning: The test statistic is outside of the range of p-values available in the\n",
      "look-up table. The actual p-value is greater than the p-value returned.\n",
      "\n",
      "  warnings.warn(\n",
      "C:\\ProgramData\\Anaconda3\\lib\\site-packages\\statsmodels\\tsa\\stattools.py:1910: InterpolationWarning: The test statistic is outside of the range of p-values available in the\n",
      "look-up table. The actual p-value is greater than the p-value returned.\n",
      "\n",
      "  warnings.warn(\n",
      "C:\\ProgramData\\Anaconda3\\lib\\site-packages\\statsmodels\\tsa\\stattools.py:1910: InterpolationWarning: The test statistic is outside of the range of p-values available in the\n",
      "look-up table. The actual p-value is greater than the p-value returned.\n",
      "\n",
      "  warnings.warn(\n",
      "C:\\ProgramData\\Anaconda3\\lib\\site-packages\\statsmodels\\tsa\\stattools.py:1910: InterpolationWarning: The test statistic is outside of the range of p-values available in the\n",
      "look-up table. The actual p-value is greater than the p-value returned.\n",
      "\n",
      "  warnings.warn(\n",
      "C:\\ProgramData\\Anaconda3\\lib\\site-packages\\statsmodels\\tsa\\stattools.py:1910: InterpolationWarning: The test statistic is outside of the range of p-values available in the\n",
      "look-up table. The actual p-value is greater than the p-value returned.\n",
      "\n",
      "  warnings.warn(\n",
      "C:\\ProgramData\\Anaconda3\\lib\\site-packages\\statsmodels\\tsa\\stattools.py:1910: InterpolationWarning: The test statistic is outside of the range of p-values available in the\n",
      "look-up table. The actual p-value is greater than the p-value returned.\n",
      "\n",
      "  warnings.warn(\n",
      "C:\\ProgramData\\Anaconda3\\lib\\site-packages\\statsmodels\\tsa\\stattools.py:1910: InterpolationWarning: The test statistic is outside of the range of p-values available in the\n",
      "look-up table. The actual p-value is greater than the p-value returned.\n",
      "\n",
      "  warnings.warn(\n",
      "C:\\ProgramData\\Anaconda3\\lib\\site-packages\\statsmodels\\tsa\\stattools.py:1910: InterpolationWarning: The test statistic is outside of the range of p-values available in the\n",
      "look-up table. The actual p-value is greater than the p-value returned.\n",
      "\n",
      "  warnings.warn(\n",
      "C:\\ProgramData\\Anaconda3\\lib\\site-packages\\statsmodels\\tsa\\stattools.py:1910: InterpolationWarning: The test statistic is outside of the range of p-values available in the\n",
      "look-up table. The actual p-value is greater than the p-value returned.\n",
      "\n",
      "  warnings.warn(\n",
      "C:\\ProgramData\\Anaconda3\\lib\\site-packages\\statsmodels\\tsa\\stattools.py:1910: InterpolationWarning: The test statistic is outside of the range of p-values available in the\n",
      "look-up table. The actual p-value is greater than the p-value returned.\n",
      "\n",
      "  warnings.warn(\n",
      "C:\\ProgramData\\Anaconda3\\lib\\site-packages\\statsmodels\\tsa\\stattools.py:1910: InterpolationWarning: The test statistic is outside of the range of p-values available in the\n",
      "look-up table. The actual p-value is greater than the p-value returned.\n",
      "\n",
      "  warnings.warn(\n"
     ]
    }
   ],
   "source": [
    "for i in range(2004, 2018):\n",
    "    print('\\n')\n",
    "    print(\"Season: %d - %d\" % (i, i+1))\n",
    "    start_yr = i\n",
    "    end_yr = i+1\n",
    "    season = df['Disease Rate'][to_week_range(start_yr, outseason_end_week):to_week_range(end_yr, outseason_start_week)]\n",
    "    X = season.values\n",
    "    kpss_test(X)"
   ],
   "metadata": {
    "collapsed": false,
    "pycharm": {
     "name": "#%%\n"
    }
   }
  },
  {
   "cell_type": "code",
   "execution_count": 45,
   "outputs": [
    {
     "name": "stdout",
     "output_type": "stream",
     "text": [
      "KPSS Statistic: 0.04543745650875055\n",
      "p-value: 0.1\n",
      "num lags: 19\n",
      "Critial Values:\n",
      "   10% : 0.347\n",
      "   5% : 0.463\n",
      "   2.5% : 0.574\n",
      "   1% : 0.739\n",
      "Result: The series is stationary\n"
     ]
    },
    {
     "name": "stderr",
     "output_type": "stream",
     "text": [
      "C:\\ProgramData\\Anaconda3\\lib\\site-packages\\statsmodels\\tsa\\stattools.py:1875: FutureWarning: The behavior of using nlags=None will change in release 0.13.Currently nlags=None is the same as nlags=\"legacy\", and so a sample-size lag length is used. After the next release, the default will change to be the same as nlags=\"auto\" which uses an automatic lag length selection method. To silence this warning, either use \"auto\" or \"legacy\"\n",
      "  warnings.warn(msg, FutureWarning)\n",
      "C:\\ProgramData\\Anaconda3\\lib\\site-packages\\statsmodels\\tsa\\stattools.py:1910: InterpolationWarning: The test statistic is outside of the range of p-values available in the\n",
      "look-up table. The actual p-value is greater than the p-value returned.\n",
      "\n",
      "  warnings.warn(\n"
     ]
    }
   ],
   "source": [
    "X = df['Disease Rate'].values\n",
    "kpss_test(X)"
   ],
   "metadata": {
    "collapsed": false,
    "pycharm": {
     "name": "#%%\n"
    }
   }
  },
  {
   "cell_type": "code",
   "execution_count": null,
   "outputs": [],
   "source": [],
   "metadata": {
    "collapsed": false,
    "pycharm": {
     "name": "#%%\n"
    }
   }
  },
  {
   "cell_type": "markdown",
   "source": [
    "5, 23, 38"
   ],
   "metadata": {
    "collapsed": false
   }
  }
 ],
 "metadata": {
  "kernelspec": {
   "display_name": "Python 3",
   "language": "python",
   "name": "python3"
  },
  "language_info": {
   "codemirror_mode": {
    "name": "ipython",
    "version": 2
   },
   "file_extension": ".py",
   "mimetype": "text/x-python",
   "name": "python",
   "nbconvert_exporter": "python",
   "pygments_lexer": "ipython2",
   "version": "2.7.6"
  }
 },
 "nbformat": 4,
 "nbformat_minor": 0
}